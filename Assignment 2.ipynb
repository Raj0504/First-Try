{
 "cells": [
  {
   "cell_type": "markdown",
   "metadata": {},
   "source": [
    "# Task 1"
   ]
  },
  {
   "cell_type": "code",
   "execution_count": 8,
   "metadata": {
    "collapsed": false
   },
   "outputs": [
    {
     "name": "stdout",
     "output_type": "stream",
     "text": [
      "Addition of given numbers using myReduce function :  250\n",
      "Multiplication of given numbers using myReduce function :  120\n"
     ]
    }
   ],
   "source": [
    "#1.1. My Own Reduce Function\n",
    "\n",
    "lst1 = [10,20,30,40,50,100]\n",
    "lst2=[1,2,3,4,5]\n",
    "\n",
    "def MyReduce(func,Lst):\n",
    "    value=Lst[0]\n",
    "    for i in Lst[1:]:\n",
    "        value=func(value,i)\n",
    "    return(value)\n",
    "\n",
    "def addition(x,y):\n",
    "    return(x+y)\n",
    "def multiplication(x,y):\n",
    "    return(x*y)\n",
    "\n",
    "# MyReduce function for addition\n",
    "Add = MyReduce(addition,lst1)\n",
    "print(\"Addition of given numbers using myReduce function : \",Add)\n",
    "\n",
    "\n",
    "# MyReduce function for addition\n",
    "multi = MyReduce(multiplication,lst2)\n",
    "print(\"Multiplication of given numbers using myReduce function : \",multi)\n"
   ]
  },
  {
   "cell_type": "code",
   "execution_count": 20,
   "metadata": {
    "collapsed": false
   },
   "outputs": [
    {
     "name": "stdout",
     "output_type": "stream",
     "text": [
      "Finding the even numbers of given numbers using myFilter function :  [2, 4, 6, 8, 10]\n"
     ]
    }
   ],
   "source": [
    "#1.2. My Own Filter Function\n",
    "\n",
    "def Myfilter(func,X):\n",
    "    value=[]\n",
    "    for i in X:\n",
    "        if func(i):\n",
    "            value.append(i)\n",
    "    return value\n",
    "            \n",
    "\n",
    "\n",
    "def is_even(X):\n",
    "    if X%2==0:\n",
    "        return True\n",
    "    else:\n",
    "        return False\n",
    "lst1=[1,2,3,4,5,6,7,8,9,10]\n",
    "\n",
    "\n",
    "\n",
    "# MyFilter function to find the even number\n",
    "numbers= Myfilter(is_even,lst1)\n",
    "\n",
    "print(\"Finding the even numbers of given numbers using myFilter function : \",numbers)\n",
    "\n",
    "    \n"
   ]
  },
  {
   "cell_type": "code",
   "execution_count": 59,
   "metadata": {
    "collapsed": false
   },
   "outputs": [
    {
     "name": "stdout",
     "output_type": "stream",
     "text": [
      "['A', 'C', 'A', 'D', 'G', 'I', 'L', 'D']\n",
      "['x', 'xx', 'xxx', 'xxxx', 'y', 'yy', 'yyy', 'yyyy', 'z', 'zz', 'zzz', 'zzzz']\n",
      "['x', 'y', 'z', 'xx', 'yy', 'zz', 'xxx', 'yyy', 'zzz', 'xxxx', 'yyyy', 'zzzz']\n",
      "[[2], [3], [4], [3], [4], [5], [4], [5], [6]]\n",
      "[[2, 3, 4, 5], [3, 4, 5, 6], [4, 5, 6, 7], [5, 6, 7, 8]]\n",
      "[(1, 1), (2, 1), (3, 1), (1, 2), (2, 2), (3, 2), (1, 3), (2, 3), (3, 3)]\n"
     ]
    }
   ],
   "source": [
    "#2. List comprehensions\n",
    "\n",
    "Input=\"ACADGILD\"\n",
    "\n",
    "Output = [ i for i in Input]\n",
    "print(Output)\n",
    "\n",
    "\n",
    "Input=['x','y','z']\n",
    "Output = [ i*j for i in Input for j in range(1,5)]\n",
    "print(Output)\n",
    "\n",
    "\n",
    "Input=['x','y','z']\n",
    "Output = [ i*j for i in range (1,5) for j in Input]\n",
    "print(Output)\n",
    "\n",
    "Input=[1,2,3]\n",
    "Output = [ [i+j] for i in range(1,4) for j in Input]\n",
    "print(Output)\n",
    "\n",
    "\n",
    "Input=[1,2,3,4]\n",
    "Output = [ [i+j for i in range(1,5)] for j in Input]\n",
    "print(Output)\n",
    "\n",
    "\n",
    "Input=[1,2,3]\n",
    "Output = [ (j,i) for i in range(1,4) for j in Input]\n",
    "print(Output)\n"
   ]
  },
  {
   "cell_type": "code",
   "execution_count": 84,
   "metadata": {
    "collapsed": false
   },
   "outputs": [
    {
     "name": "stdout",
     "output_type": "stream",
     "text": [
      "Method 1: The longest word is : Finally\n",
      "Method 2: The longest word is : Finally\n"
     ]
    }
   ],
   "source": [
    "#3. Longest Word\n",
    "\n",
    "lst= [\"wow\",\"Finally\",\"dream\",\"has\",\"become\",\"True\"]\n",
    "\n",
    "def find_longest1(lst):\n",
    "        Length=[]\n",
    "        for i in lst:\n",
    "            Length.append (len(i))\n",
    "        return(Length.index(max(Length)))\n",
    "            \n",
    "index_position=find_longest1(lst)\n",
    "print( \"Method 1: The longest word is :\" , lst[index_position])\n",
    "\n",
    "\n",
    "#3. Longest Word . Another method\n",
    "\n",
    "from functools import reduce\n",
    "\n",
    "lst= [\"wow\",\"Finally\",\"dream\",\"has\",\"become\",\"True\"]\n",
    "\n",
    "def find_longest2(lst):\n",
    "     Longest_word= reduce( lambda x,y : x if len(x)> len(y) else y ,lst)\n",
    "     return(Longest_word)\n",
    "            \n",
    "index_position=find_longest2(lst)\n",
    "print( \"Method 2: The longest word is :\" , index_position)\n",
    "\n"
   ]
  },
  {
   "cell_type": "markdown",
   "metadata": {},
   "source": [
    "# Task2"
   ]
  },
  {
   "cell_type": "code",
   "execution_count": 25,
   "metadata": {
    "collapsed": false
   },
   "outputs": [
    {
     "name": "stdout",
     "output_type": "stream",
     "text": [
      "Enter the value of a = 3\n",
      "Enter the value of b = 4\n",
      "Enter the value of c = 5\n",
      "area : 6.0\n"
     ]
    }
   ],
   "source": [
    "#1.1 Class program to find the area of the triangle\n",
    "class Triangle:\n",
    " \n",
    "    def __init__(self,a,b,c):\n",
    "        a=input(\"Enter the value of a = \")\n",
    "        b=input(\"Enter the value of b = \")\n",
    "        c=input(\"Enter the value of c = \")\n",
    "        self.a = float(a)\n",
    "        self.b = float(b)\n",
    "        self.c = float(c)\n",
    " \n",
    "    def area(self):\n",
    "        s=(self.a + self.b + self.c)/2\n",
    "        return((s*(s-self.a)*(s-self.b)*(s-self.c))**0.5)\n",
    " \n",
    "\n",
    "Total_Area = Triangle(a, b, c)\n",
    "print(\"area : {}\".format(Total_Area.area()))"
   ]
  },
  {
   "cell_type": "code",
   "execution_count": 21,
   "metadata": {
    "collapsed": false
   },
   "outputs": [
    {
     "name": "stdout",
     "output_type": "stream",
     "text": [
      "['cdee', 'erty', 'ewrfew']\n"
     ]
    }
   ],
   "source": [
    "# 1.2 the list of words that are longer than n.\n",
    "def filter_long_words(words,n):\n",
    "    return filter(lambda x:len(x)>n, words)\n",
    "    \n",
    "\n",
    "lst=['a','ab','cdee','erty','ewrfew']\n",
    "n=3\n",
    "long_lst=filter_long_words(lst,n)\n",
    "print(list(long_lst))\n",
    "\n"
   ]
  },
  {
   "cell_type": "code",
   "execution_count": 12,
   "metadata": {
    "collapsed": false
   },
   "outputs": [
    {
     "name": "stdout",
     "output_type": "stream",
     "text": [
      "[1, 2, 4, 4, 6]\n"
     ]
    }
   ],
   "source": [
    "#2.1 return thr list of words count\n",
    "def words_to_int(Input):\n",
    "    return(len(Input))\n",
    "    \n",
    "\n",
    "lst=['a','ab','cdee','erty','ewrfew']\n",
    "int_lst=list(map(words_to_int,lst))\n",
    "print(int_lst)\n"
   ]
  },
  {
   "cell_type": "code",
   "execution_count": 9,
   "metadata": {
    "collapsed": false
   },
   "outputs": [
    {
     "name": "stdout",
     "output_type": "stream",
     "text": [
      "Please enter one charactor: o\n",
      "Does the give charactor falls in Vowel category? :  True\n",
      "************************\n",
      "Please enter the List of Charectors as comma seperated: a,v,t,i,e,o,l,d,x\n",
      "The vowels in the given set of charactors are \n",
      "a\n",
      "i\n",
      "e\n",
      "o\n"
     ]
    }
   ],
   "source": [
    "#2.2. Print the vowel\n",
    "\n",
    "def print_vowels1(Input):\n",
    "    vowels=['a','e','i','o','u']\n",
    "    if Input in vowels:\n",
    "        return (True)\n",
    "    else:\n",
    "        return(False)\n",
    "Chars1=input(\"Please enter one charactor: \")\n",
    "print(\"Does the give charactor falls in Vowel category? : \",print_vowels1(Chars1))\n",
    "\n",
    "print(\"************************\")\n",
    "\n",
    "      \n",
    "#2.2. Print the vowel\n",
    "def print_vowels2(Input):\n",
    "    vowels=['a','e','i','o','u']\n",
    "    for i in Input:\n",
    "        if i in vowels:\n",
    "            print(i)\n",
    "Chars2=input(\"Please enter the List of Charectors as comma seperated: \")\n",
    "\n",
    "print(\"The vowels in the given set of charactors are \")\n",
    "print_vowels2(Chars2)"
   ]
  }
 ],
 "metadata": {
  "kernelspec": {
   "display_name": "Python 3",
   "language": "python",
   "name": "python3"
  },
  "language_info": {
   "codemirror_mode": {
    "name": "ipython",
    "version": 3
   },
   "file_extension": ".py",
   "mimetype": "text/x-python",
   "name": "python",
   "nbconvert_exporter": "python",
   "pygments_lexer": "ipython3",
   "version": "3.6.0"
  }
 },
 "nbformat": 4,
 "nbformat_minor": 2
}
